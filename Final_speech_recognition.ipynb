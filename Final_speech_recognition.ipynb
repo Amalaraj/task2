{
 "cells": [
  {
   "cell_type": "code",
   "execution_count": 9,
   "metadata": {},
   "outputs": [
    {
     "name": "stdout",
     "output_type": "stream",
     "text": [
      "Please say start to start recording...\n",
      "start command acknowledged\n",
      "Recording...please continue talking.....And pause when you are done\n",
      "Please find the recorded info in out.txt file...\n"
     ]
    }
   ],
   "source": [
    "#   please install the following modules with the command mentioned below\n",
    "#pip install SpeechRecognition\n",
    "#conda install PyAudio\n",
    "#                                         How the program works!\n",
    "#   1)The terminal will ask you to say start to record your speech\n",
    "#   2)YOu will get an acknowledgement that your command has been received\n",
    "#   3)Wait till you get this message \"Recording...please continue talking.....And pause when you are done\" to start talking\n",
    "#   4)once you are done pause for a couple of seconds\n",
    "#   5)You will get a message that the conversion has been complete and written in a file\n",
    "\n",
    "import speech_recognition as sr\n",
    "import time\n",
    "\n",
    "r = sr.Recognizer()  # creating instance for speech convertion\n",
    "\n",
    "m = sr.Microphone()  # creating instance for audio source\n",
    "\n",
    "with m as source:\n",
    "    r.adjust_for_ambient_noise(source)   # adjust to environment \n",
    "\n",
    "\n",
    "def callback(recognizer, audio):   # this is called from the background thread\n",
    "\n",
    "    try:\n",
    "        speech_as_text = recognizer.recognize_google(audio)\n",
    "        print(speech_as_text+\" command acknowledged\")\n",
    "\n",
    "        # Look for your \"start\" keyword in speech_as_text\n",
    "        if \"start\" in speech_as_text or \"hey start\":\n",
    "            print(\"Recording...please continue talking.....And pause when you are done\")\n",
    "            audio_data = r.listen(m)\n",
    "            \n",
    "            with open('out.txt', 'w') as f:\n",
    "                 print(\"You said = \"+r.recognize_google(audio_data, language = 'en-GB'), file=f)\n",
    "            \n",
    "            print(\"Please find the recorded info in out.txt file...\")\n",
    "            start_listening(wait_for_stop=False)       #  background thread is closed\n",
    "            \n",
    "   \n",
    "\n",
    "    except sr.UnknownValueError:\n",
    "        print(\"Oops! Didn't catch that\")\n",
    "        \n",
    "    except sr.RequestError:\n",
    "        print(\"Bad Request\")\n",
    "\n",
    "    \n",
    "print(\"Please say start to start recording...\")        # program starts here    \n",
    "start_listening = r.listen_in_background(m, callback)  # start_listening is created to close the background thread \n",
    " "
   ]
  },
  {
   "cell_type": "code",
   "execution_count": null,
   "metadata": {},
   "outputs": [],
   "source": []
  }
 ],
 "metadata": {
  "kernelspec": {
   "display_name": "Python 3",
   "language": "python",
   "name": "python3"
  },
  "language_info": {
   "codemirror_mode": {
    "name": "ipython",
    "version": 3
   },
   "file_extension": ".py",
   "mimetype": "text/x-python",
   "name": "python",
   "nbconvert_exporter": "python",
   "pygments_lexer": "ipython3",
   "version": "3.7.4"
  }
 },
 "nbformat": 4,
 "nbformat_minor": 2
}
